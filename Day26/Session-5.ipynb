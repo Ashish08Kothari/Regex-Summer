{
 "cells": [
  {
   "cell_type": "code",
   "execution_count": 0,
   "metadata": {
    "application/vnd.databricks.v1+cell": {
     "cellMetadata": {},
     "inputWidgets": {},
     "nuid": "22831792-b18c-415d-99cb-d831644bdde7",
     "showTitle": false,
     "tableResultSettingsMap": {},
     "title": ""
    }
   },
   "outputs": [],
   "source": [
    "%sql\n",
    "SELECT \n",
    "    OrderId, \n",
    "    COUNT(*) AS orderID_count\n",
    "FROM sales3\n",
    "GROUP BY OrderId\n",
    "ORDER BY orderID_count DESC"
   ]
  },
  {
   "cell_type": "markdown",
   "metadata": {
    "application/vnd.databricks.v1+cell": {
     "cellMetadata": {},
     "inputWidgets": {},
     "nuid": "d0b64d99-4043-4850-ae0f-03ffda0b2722",
     "showTitle": false,
     "tableResultSettingsMap": {},
     "title": ""
    }
   },
   "source": [
    "# Q11. Get the total number of product based on each quantity of order"
   ]
  },
  {
   "cell_type": "code",
   "execution_count": 0,
   "metadata": {
    "application/vnd.databricks.v1+cell": {
     "cellMetadata": {},
     "inputWidgets": {},
     "nuid": "687b1552-27a8-4693-a50e-c9e02f989aac",
     "showTitle": false,
     "tableResultSettingsMap": {},
     "title": ""
    }
   },
   "outputs": [],
   "source": [
    "%sql\n",
    "SELECT \n",
    "    Quantity, \n",
    "    COUNT(Product) AS total_products\n",
    "FROM sales3\n",
    "GROUP BY Quantity\n",
    "ORDER BY Quantity"
   ]
  },
  {
   "cell_type": "markdown",
   "metadata": {
    "application/vnd.databricks.v1+cell": {
     "cellMetadata": {},
     "inputWidgets": {},
     "nuid": "2bcfaf1e-b847-4583-b210-d4efc63dd3e5",
     "showTitle": false,
     "tableResultSettingsMap": {},
     "title": ""
    }
   },
   "source": [
    "# Q12. Get the total number of orders placed for quantity order 1 which has been sold on consecutive order days\n"
   ]
  },
  {
   "cell_type": "code",
   "execution_count": 0,
   "metadata": {
    "application/vnd.databricks.v1+cell": {
     "cellMetadata": {},
     "inputWidgets": {},
     "nuid": "0ce0ccae-d942-43ca-975c-40c97aba1fb4",
     "showTitle": false,
     "tableResultSettingsMap": {},
     "title": ""
    }
   },
   "outputs": [],
   "source": [
    "from pyspark.sql.functions import col, to_date, count, lag, datediff\n",
    "from pyspark.sql.window import Window\n",
    "\n",
    "# Load the sales3 table\n",
    "sales_df = spark.table(\"sales3\")\n",
    "\n",
    "# Step 1: Filter rows where Quantity is 1\n",
    "df_q1 = sales_df.filter(col(\"Quantity\") == 1)\n",
    "\n",
    "# Step 2: Extract date only from OrderDate\n",
    "df_q1_date = df_q1.withColumn(\"OrderDay\", to_date(col(\"OrderDate\")))\n",
    "\n",
    "# Step 3: Count number of Quantity=1 orders per day\n",
    "orders_per_day = df_q1_date.groupBy(\"OrderDay\") \\\n",
    "    .agg(count(\"*\").alias(\"OrdersCount\")) \\\n",
    "    .orderBy(\"OrderDay\")\n",
    "\n",
    "# Step 4: Use window function to get previous day\n",
    "windowSpec = Window.orderBy(\"OrderDay\")\n",
    "orders_with_lag = orders_per_day.withColumn(\"PrevDay\", lag(\"OrderDay\").over(windowSpec))\n",
    "\n",
    "# Step 5: Filter rows where current day is consecutive to previous\n",
    "consecutive_orders = orders_with_lag.filter(datediff(col(\"OrderDay\"), col(\"PrevDay\")) == 1)\n",
    "\n",
    "# Step 6: Sum the number of Quantity=1 orders that fall on consecutive days\n",
    "total_orders = consecutive_orders.agg({\"OrdersCount\": \"sum\"}).collect()[0][0]\n",
    "\n",
    "# Step 7: Print the result\n",
    "print(f\"✅ Total number of Quantity=1 orders on consecutive days: {total_orders}\")\n"
   ]
  },
  {
   "cell_type": "markdown",
   "metadata": {
    "application/vnd.databricks.v1+cell": {
     "cellMetadata": {},
     "inputWidgets": {},
     "nuid": "3fb0776c-e7dd-46e0-a6f4-83fa3bab9ce7",
     "showTitle": false,
     "tableResultSettingsMap": {},
     "title": ""
    }
   },
   "source": [
    "# # Q13. Find the top 3 products which has been sold together\n"
   ]
  },
  {
   "cell_type": "code",
   "execution_count": 0,
   "metadata": {
    "application/vnd.databricks.v1+cell": {
     "cellMetadata": {},
     "inputWidgets": {},
     "nuid": "87f57b35-5ea7-4da1-8ffb-99aee844f32c",
     "showTitle": false,
     "tableResultSettingsMap": {},
     "title": ""
    }
   },
   "outputs": [],
   "source": [
    "%sql\n",
    "with product_pairs as (\n",
    "  select\n",
    "    CASE WHEN a.Product < b.Product THEN a.Product ELSE b.Product END AS Product1,\n",
    "    CASE WHEN a.Product < b.Product THEN b.Product ELSE a.Product END AS Product2\n",
    "  FROM sales a\n",
    "  JOIN sales b\n",
    "    ON a.OrderId = b.OrderId\n",
    "    AND a.Product < b.Product\n",
    ")\n",
    "select Product1, Product2, COUNT(*) AS pair_count\n",
    "from product_pairs\n",
    "group by Product1, Product2\n",
    "order by pair_count DESC\n",
    "limit 10;"
   ]
  }
 ],
 "metadata": {
  "application/vnd.databricks.v1+notebook": {
   "computePreferences": null,
   "dashboards": [],
   "environmentMetadata": {
    "base_environment": "",
    "environment_version": "1"
   },
   "inputWidgetPreferences": null,
   "language": "python",
   "notebookMetadata": {
    "pythonIndentUnit": 4
   },
   "notebookName": "Session-5",
   "widgets": {}
  }
 },
 "nbformat": 4,
 "nbformat_minor": 0
}