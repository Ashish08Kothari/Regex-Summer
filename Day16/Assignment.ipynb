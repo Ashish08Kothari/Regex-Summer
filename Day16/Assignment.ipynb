{
  "cells": [
    {
      "cell_type": "code",
      "execution_count": null,
      "metadata": {
        "colab": {
          "base_uri": "https://localhost:8080/"
        },
        "collapsed": true,
        "id": "MT_bNwFL1BhY",
        "outputId": "7801c461-3e9f-4023-b769-1180c5309de8"
      },
      "outputs": [],
      "source": [
        "pip install boto3"
      ]
    },
    {
      "cell_type": "code",
      "execution_count": null,
      "metadata": {
        "colab": {
          "base_uri": "https://localhost:8080/"
        },
        "id": "ajRjqWf4zhEu",
        "outputId": "d5a29767-6ff7-4432-8b2e-7171bccfef6e"
      },
      "outputs": [
        {
          "name": "stdout",
          "output_type": "stream",
          "text": [
            "✅ File uploaded successfully to S3!\n"
          ]
        }
      ],
      "source": [
        "import boto3\n",
        "\n",
        "# AWS credentials\n",
        "aws_access_key = ''\n",
        "aws_secret_key = ''\n",
        "bucket_name = ''\n",
        "region = 'ap-south-1'  # e.g., Mumbai region\n",
        "\n",
        "# File details\n",
        "local_file = 'supply_chain.csv'\n",
        "s3_file_name = 'supply_chain.csv'  # Change if you want different name in S3\n",
        "\n",
        "# Create boto3 client\n",
        "s3 = boto3.client(\n",
        "    's3',\n",
        "    aws_access_key_id=aws_access_key,\n",
        "    aws_secret_access_key=aws_secret_key,\n",
        "    region_name=region\n",
        ")\n",
        "\n",
        "# Upload file\n",
        "try:\n",
        "    s3.upload_file(local_file, bucket_name, s3_file_name)\n",
        "    print(\"✅ File uploaded successfully to S3!\")\n",
        "except Exception as e:\n",
        "    print(f\"❌ Upload failed: {e}\")\n"
      ]
    },
    {
      "cell_type": "code",
      "execution_count": null,
      "metadata": {
        "id": "kQQNnmNC5Dhv"
      },
      "outputs": [],
      "source": [
        "import os\n",
        "\n",
        "os.environ['AWS_ACCESS_KEY_ID'] = ''\n",
        "os.environ['AWS_SECRET_ACCESS_KEY'] = ''\n",
        "os.environ['AWS_DEFAULT_REGION'] = 'ap-south-1'\n"
      ]
    },
    {
      "cell_type": "code",
      "execution_count": null,
      "metadata": {
        "id": "JhR2oLpW5N5h"
      },
      "outputs": [],
      "source": [
        "import boto3\n",
        "\n",
        "ec2 = boto3.client('ec2')\n"
      ]
    },
    {
      "cell_type": "code",
      "execution_count": null,
      "metadata": {
        "colab": {
          "base_uri": "https://localhost:8080/"
        },
        "id": "97Kv_SjZ5X04",
        "outputId": "d0fc2d6a-59c9-4b6c-ba6f-23809a2b1989"
      },
      "outputs": [
        {
          "name": "stdout",
          "output_type": "stream",
          "text": [
            "✅ EC2 instance launched successfully! Instance ID: i-09d053652aae0a43d\n"
          ]
        }
      ],
      "source": [
        "import boto3\n",
        "\n",
        "region = 'ap-south-1'\n",
        "ami_id = ''  # Amazon Linux 2 Mumbai\n",
        "instance_type = 't2.micro'\n",
        "key_name = ''\n",
        "subnet_id = ''\n",
        "security_group_id = ''\n",
        "\n",
        "ec2 = boto3.client('ec2', region_name=region)\n",
        "\n",
        "try:\n",
        "    response = ec2.run_instances(\n",
        "        ImageId=ami_id,\n",
        "        InstanceType=instance_type,\n",
        "        KeyName=key_name,\n",
        "        MaxCount=1,\n",
        "        MinCount=1,\n",
        "        NetworkInterfaces=[{\n",
        "            'AssociatePublicIpAddress': True,\n",
        "            'DeviceIndex': 0,\n",
        "            'SubnetId': subnet_id,\n",
        "            'Groups': [security_group_id]\n",
        "        }],\n",
        "        TagSpecifications=[{\n",
        "            'ResourceType': 'instance',\n",
        "            'Tags': [{'Key': 'Name', 'Value': 'MyBoto3Instance'}]\n",
        "        }]\n",
        "    )\n",
        "\n",
        "    instance_id = response['Instances'][0]['InstanceId']\n",
        "    print(f\"✅ EC2 instance launched successfully! Instance ID: {instance_id}\")\n",
        "\n",
        "except Exception as e:\n",
        "    print(f\"❌ Error launching instance: {e}\")\n"
      ]
    }
  ],
  "metadata": {
    "colab": {
      "provenance": []
    },
    "kernelspec": {
      "display_name": "Python 3",
      "name": "python3"
    },
    "language_info": {
      "name": "python"
    }
  },
  "nbformat": 4,
  "nbformat_minor": 0
}
