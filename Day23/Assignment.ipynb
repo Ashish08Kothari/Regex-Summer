{
 "cells": [
  {
   "cell_type": "markdown",
   "metadata": {
    "application/vnd.databricks.v1+cell": {
     "cellMetadata": {},
     "inputWidgets": {},
     "nuid": "fbddee73-239d-4f75-9291-f60139dde3ab",
     "showTitle": false,
     "tableResultSettingsMap": {},
     "title": ""
    }
   },
   "source": [
    "### Assignment-2\n",
    "\n",
    "\n",
    "- Create a dataframe of movies table \n",
    "- Find out the user movieID and the movie name the person has watched\n",
    "- Get the movie name only for the user provided the rating after 2001\n",
    "- get the total number of movies released in 1995 vs 1996\n",
    "- get the number of movies released only for action genre\n",
    "- get the total number of movies released for action genre\n",
    "- get the genre value for each movie in a new row"
   ]
  },
  {
   "cell_type": "code",
   "execution_count": 0,
   "metadata": {
    "application/vnd.databricks.v1+cell": {
     "cellMetadata": {
      "byteLimit": 2048000,
      "rowLimit": 10000
     },
     "inputWidgets": {},
     "nuid": "a6e933f8-ecfc-49ed-a244-2299d274d068",
     "showTitle": false,
     "tableResultSettingsMap": {},
     "title": ""
    }
   },
   "outputs": [],
   "source": [
    "from pyspark.sql.functions import col, from_unixtime, year, regexp_extract,split, explode"
   ]
  },
  {
   "cell_type": "code",
   "execution_count": 0,
   "metadata": {
    "application/vnd.databricks.v1+cell": {
     "cellMetadata": {
      "byteLimit": 2048000,
      "rowLimit": 10000
     },
     "inputWidgets": {},
     "nuid": "98755a6f-4ef0-4a72-8d3b-2e727f97bc91",
     "showTitle": false,
     "tableResultSettingsMap": {},
     "title": ""
    }
   },
   "outputs": [],
   "source": [
    "ratings_df = spark.read.format(\"csv\").option(\"header\", \"true\").load(\"dbfs:/FileStore/shared_uploads/ashish258kothari@gmail.com/ratings.csv\")\n",
    "movies_df = spark.read.format(\"csv\").option(\"header\", \"true\").load(\"dbfs:/FileStore/shared_uploads/ashish258kothari@gmail.com/movies.csv\")\n",
    "\n",
    "\n",
    "ratings_df = ratings_df.withColumn(\"movieId\", col(\"movieId\").cast(\"int\"))\n",
    "movies_df = movies_df.withColumn(\"movieId\", col(\"movieId\").cast(\"int\"))\n",
    "\n",
    "joined_df = ratings_df.join(movies_df, on=\"movieId\", how=\"inner\")\n"
   ]
  },
  {
   "cell_type": "code",
   "execution_count": 0,
   "metadata": {
    "application/vnd.databricks.v1+cell": {
     "cellMetadata": {
      "byteLimit": 2048000,
      "rowLimit": 10000
     },
     "collapsed": true,
     "inputWidgets": {},
     "nuid": "1a0d29ad-3b3d-4821-9b82-f779625c40a4",
     "showTitle": false,
     "tableResultSettingsMap": {},
     "title": ""
    }
   },
   "outputs": [
    {
     "output_type": "stream",
     "name": "stdout",
     "output_type": "stream",
     "text": [
      "+------+-------+--------------------+\n|userId|movieId|               title|\n+------+-------+--------------------+\n|     1|      1|    Toy Story (1995)|\n|     1|      3|Grumpier Old Men ...|\n|     1|      6|         Heat (1995)|\n|     1|     47|Seven (a.k.a. Se7...|\n|     1|     50|Usual Suspects, T...|\n+------+-------+--------------------+\nonly showing top 5 rows\n\n"
     ]
    }
   ],
   "source": [
    "#Question 1\n",
    "joined_df.select(\"userId\", \"movieId\", \"title\").show(5)\n"
   ]
  },
  {
   "cell_type": "code",
   "execution_count": 0,
   "metadata": {
    "application/vnd.databricks.v1+cell": {
     "cellMetadata": {
      "byteLimit": 2048000,
      "rowLimit": 10000
     },
     "inputWidgets": {},
     "nuid": "b4006bf0-3725-4251-bc46-e65246c32e85",
     "showTitle": false,
     "tableResultSettingsMap": {},
     "title": ""
    }
   },
   "outputs": [
    {
     "output_type": "stream",
     "name": "stdout",
     "output_type": "stream",
     "text": [
      "+--------------------------------------------------+\n|title                                             |\n+--------------------------------------------------+\n|Tommy Boy (1995)                                  |\n|Step Brothers (2008)                              |\n|Dark Knight, The (2008)                           |\n|Talladega Nights: The Ballad of Ricky Bobby (2006)|\n|Shawshank Redemption, The (1994)                  |\n|Gladiator (2000)                                  |\n|Good Will Hunting (1997)                          |\n|Inglourious Basterds (2009)                       |\n|Departed, The (2006)                              |\n|Kill Bill: Vol. 1 (2003)                          |\n+--------------------------------------------------+\nonly showing top 10 rows\n\n"
     ]
    }
   ],
   "source": [
    "# Question 2\n",
    "ratings_df = ratings_df.withColumn(\"movieId\", col(\"movieId\").cast(\"int\")) \\\n",
    "                       .withColumn(\"timestamp\", col(\"timestamp\").cast(\"long\")) \\\n",
    "                       .withColumn(\"rating_date\", from_unixtime(col(\"timestamp\"))) \\\n",
    "                       .withColumn(\"year\", year(from_unixtime(col(\"timestamp\"))))\n",
    "\n",
    "movies_df = movies_df.withColumn(\"movieId\", col(\"movieId\").cast(\"int\"))\n",
    "\n",
    "filtered_ratings = ratings_df.filter(col(\"year\") > 2001)\n",
    "\n",
    "joined_df = filtered_ratings.join(movies_df, on=\"movieId\", how=\"inner\")\n",
    "\n",
    "result_df = joined_df.select(\"title\").distinct()\n",
    "\n",
    "result_df.show(10, truncate=False)"
   ]
  },
  {
   "cell_type": "code",
   "execution_count": 0,
   "metadata": {
    "application/vnd.databricks.v1+cell": {
     "cellMetadata": {
      "byteLimit": 2048000,
      "rowLimit": 10000
     },
     "inputWidgets": {},
     "nuid": "1e8ad3d6-688e-4f45-8cdd-3a7be4188aaf",
     "showTitle": false,
     "tableResultSettingsMap": {},
     "title": ""
    }
   },
   "outputs": [
    {
     "output_type": "stream",
     "name": "stdout",
     "output_type": "stream",
     "text": [
      "+------------+-----+\n|release_year|count|\n+------------+-----+\n|        1995|  259|\n|        1996|  276|\n+------------+-----+\n\n"
     ]
    }
   ],
   "source": [
    "# Question 3\n",
    "\n",
    "movies_df = movies_df.withColumn(\"release_year\", regexp_extract(col(\"title\"), r\"\\((\\d{4})\\)\", 1))\n",
    "\n",
    "filtered_df = movies_df.filter((col(\"release_year\") == \"1995\") | (col(\"release_year\") == \"1996\"))\n",
    "\n",
    "filtered_df.groupBy(\"release_year\").count().show()\n"
   ]
  },
  {
   "cell_type": "code",
   "execution_count": 0,
   "metadata": {
    "application/vnd.databricks.v1+cell": {
     "cellMetadata": {
      "byteLimit": 2048000,
      "rowLimit": 10000
     },
     "inputWidgets": {},
     "nuid": "49955992-83ad-451b-95ea-3bc9f07d4357",
     "showTitle": false,
     "tableResultSettingsMap": {},
     "title": ""
    }
   },
   "outputs": [
    {
     "output_type": "stream",
     "name": "stdout",
     "output_type": "stream",
     "text": [
      "Out[16]: 1828"
     ]
    }
   ],
   "source": [
    "# Question 4\n",
    "action_movies = movies_df.filter(col(\"genres\").like(\"%Action%\"))\n",
    "\n",
    "action_movies.count()"
   ]
  },
  {
   "cell_type": "code",
   "execution_count": 0,
   "metadata": {
    "application/vnd.databricks.v1+cell": {
     "cellMetadata": {
      "byteLimit": 2048000,
      "rowLimit": 10000
     },
     "inputWidgets": {},
     "nuid": "23e75878-98eb-4cf1-b4ca-1b51bd2886f6",
     "showTitle": false,
     "tableResultSettingsMap": {},
     "title": ""
    }
   },
   "outputs": [
    {
     "output_type": "stream",
     "name": "stdout",
     "output_type": "stream",
     "text": [
      "Out[17]: 60"
     ]
    }
   ],
   "source": [
    "# Question 5\n",
    "movies_df.filter(col(\"genres\") == \"Action\").count()"
   ]
  },
  {
   "cell_type": "code",
   "execution_count": 0,
   "metadata": {
    "application/vnd.databricks.v1+cell": {
     "cellMetadata": {
      "byteLimit": 2048000,
      "rowLimit": 10000
     },
     "inputWidgets": {},
     "nuid": "df594801-823e-4d62-a381-dcd9bf4cceb3",
     "showTitle": false,
     "tableResultSettingsMap": {},
     "title": ""
    }
   },
   "outputs": [
    {
     "output_type": "stream",
     "name": "stdout",
     "output_type": "stream",
     "text": [
      "+-------+-----------------------+---------+\n|movieId|title                  |genre    |\n+-------+-----------------------+---------+\n|1      |Toy Story (1995)       |Adventure|\n|1      |Toy Story (1995)       |Animation|\n|1      |Toy Story (1995)       |Children |\n|1      |Toy Story (1995)       |Comedy   |\n|1      |Toy Story (1995)       |Fantasy  |\n|2      |Jumanji (1995)         |Adventure|\n|2      |Jumanji (1995)         |Children |\n|2      |Jumanji (1995)         |Fantasy  |\n|3      |Grumpier Old Men (1995)|Comedy   |\n|3      |Grumpier Old Men (1995)|Romance  |\n+-------+-----------------------+---------+\nonly showing top 10 rows\n\n"
     ]
    }
   ],
   "source": [
    "# Question 6\n",
    "genres_exploded = movies_df.withColumn(\"genre\", explode(split(col(\"genres\"), \"\\|\")))\n",
    "\n",
    "# Optional: select only relevant columns\n",
    "result_df = genres_exploded.select(\"movieId\", \"title\", \"genre\")\n",
    "\n",
    "# Show result\n",
    "result_df.show(10, truncate=False)"
   ]
  }
 ],
 "metadata": {
  "application/vnd.databricks.v1+notebook": {
   "computePreferences": null,
   "dashboards": [],
   "environmentMetadata": {
    "base_environment": "",
    "environment_version": "1"
   },
   "inputWidgetPreferences": null,
   "language": "python",
   "notebookMetadata": {
    "pythonIndentUnit": 4
   },
   "notebookName": "Assignment-2",
   "widgets": {}
  }
 },
 "nbformat": 4,
 "nbformat_minor": 0
}